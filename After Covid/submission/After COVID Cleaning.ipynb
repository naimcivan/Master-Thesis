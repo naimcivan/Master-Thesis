{
 "cells": [
  {
   "cell_type": "code",
   "execution_count": 2,
   "id": "7d1f1aa0",
   "metadata": {},
   "outputs": [],
   "source": [
    "import os\n",
    "import glob\n",
    "import pandas as pd"
   ]
  },
  {
   "cell_type": "markdown",
   "id": "6ece923a",
   "metadata": {},
   "source": [
    "# Combining Green&Sustainability submission after 2020"
   ]
  },
  {
   "cell_type": "code",
   "execution_count": 2,
   "id": "f10651f6",
   "metadata": {
    "scrolled": true
   },
   "outputs": [
    {
     "data": {
      "text/plain": [
       "'C:\\\\Users\\\\Naim Cavin\\\\Desktop\\\\Combined Reddit Data\\\\After Covid\\\\submission'"
      ]
     },
     "execution_count": 2,
     "metadata": {},
     "output_type": "execute_result"
    }
   ],
   "source": [
    "os.getcwd()"
   ]
  },
  {
   "cell_type": "code",
   "execution_count": 3,
   "id": "3077123c",
   "metadata": {},
   "outputs": [],
   "source": [
    "os.chdir(\"\\\\Users\\\\Naim Cavin\\\\Desktop\\\\Combined Reddit Data\\\\After Covid\\\\submission\")"
   ]
  },
  {
   "cell_type": "code",
   "execution_count": 4,
   "id": "aeaffecb",
   "metadata": {},
   "outputs": [],
   "source": [
    "extension = 'csv'"
   ]
  },
  {
   "cell_type": "code",
   "execution_count": 5,
   "id": "6ebad03f",
   "metadata": {},
   "outputs": [
    {
     "name": "stdout",
     "output_type": "stream",
     "text": [
      "['Green-submission-after2020.csv', 'sustainability-submission-after2020.csv']\n"
     ]
    }
   ],
   "source": [
    "all_filenames = [i for i in glob.glob('*.{}'.format(extension))]\n",
    "print(all_filenames)"
   ]
  },
  {
   "cell_type": "code",
   "execution_count": 6,
   "id": "5926be3f",
   "metadata": {},
   "outputs": [],
   "source": [
    "#combine all files in the list\n",
    "combined_csv = pd.concat([pd.read_csv(f) for f in all_filenames ])"
   ]
  },
  {
   "cell_type": "code",
   "execution_count": 7,
   "id": "ecc6a053",
   "metadata": {},
   "outputs": [],
   "source": [
    "#export to csv\n",
    "combined_csv.to_csv( \"combined_csv.csv\", index=False, encoding='utf-8-sig')"
   ]
  },
  {
   "cell_type": "code",
   "execution_count": 3,
   "id": "a06a0b2c",
   "metadata": {},
   "outputs": [
    {
     "data": {
      "text/html": [
       "<div>\n",
       "<style scoped>\n",
       "    .dataframe tbody tr th:only-of-type {\n",
       "        vertical-align: middle;\n",
       "    }\n",
       "\n",
       "    .dataframe tbody tr th {\n",
       "        vertical-align: top;\n",
       "    }\n",
       "\n",
       "    .dataframe thead th {\n",
       "        text-align: right;\n",
       "    }\n",
       "</style>\n",
       "<table border=\"1\" class=\"dataframe\">\n",
       "  <thead>\n",
       "    <tr style=\"text-align: right;\">\n",
       "      <th></th>\n",
       "      <th>id</th>\n",
       "      <th>created_utc</th>\n",
       "      <th>title</th>\n",
       "      <th>selftext</th>\n",
       "      <th>full_link</th>\n",
       "    </tr>\n",
       "  </thead>\n",
       "  <tbody>\n",
       "    <tr>\n",
       "      <th>0</th>\n",
       "      <td>etfi0m</td>\n",
       "      <td>1579895174</td>\n",
       "      <td>America’s New Drinking Problem? The Trump Admi...</td>\n",
       "      <td>\\n\\n[https://www.youtube.com/watch?v=K1eBxEwi...</td>\n",
       "      <td>https://www.reddit.com/r/Green/comments/etfi0m...</td>\n",
       "    </tr>\n",
       "    <tr>\n",
       "      <th>1</th>\n",
       "      <td>etouq6</td>\n",
       "      <td>1579945099</td>\n",
       "      <td>Trump’s gutting of environmental rules is push...</td>\n",
       "      <td>NaN</td>\n",
       "      <td>https://www.reddit.com/r/Green/comments/etouq6...</td>\n",
       "    </tr>\n",
       "    <tr>\n",
       "      <th>2</th>\n",
       "      <td>etp02h</td>\n",
       "      <td>1579946285</td>\n",
       "      <td>Greta Thunberg brushes off mockery from U.S. f...</td>\n",
       "      <td>NaN</td>\n",
       "      <td>https://www.reddit.com/r/Green/comments/etp02h...</td>\n",
       "    </tr>\n",
       "    <tr>\n",
       "      <th>3</th>\n",
       "      <td>etpv53</td>\n",
       "      <td>1579952926</td>\n",
       "      <td>'It's a crisis, not a change': the six Guardia...</td>\n",
       "      <td>NaN</td>\n",
       "      <td>https://www.reddit.com/r/Green/comments/etpv53...</td>\n",
       "    </tr>\n",
       "    <tr>\n",
       "      <th>4</th>\n",
       "      <td>etsaxl</td>\n",
       "      <td>1579967241</td>\n",
       "      <td>The Future will be Worse than We Thought</td>\n",
       "      <td>NaN</td>\n",
       "      <td>https://www.reddit.com/r/Green/comments/etsaxl...</td>\n",
       "    </tr>\n",
       "  </tbody>\n",
       "</table>\n",
       "</div>"
      ],
      "text/plain": [
       "       id  created_utc                                              title  \\\n",
       "0  etfi0m   1579895174  America’s New Drinking Problem? The Trump Admi...   \n",
       "1  etouq6   1579945099  Trump’s gutting of environmental rules is push...   \n",
       "2  etp02h   1579946285  Greta Thunberg brushes off mockery from U.S. f...   \n",
       "3  etpv53   1579952926  'It's a crisis, not a change': the six Guardia...   \n",
       "4  etsaxl   1579967241           The Future will be Worse than We Thought   \n",
       "\n",
       "                                            selftext  \\\n",
       "0   \\n\\n[https://www.youtube.com/watch?v=K1eBxEwi...   \n",
       "1                                                NaN   \n",
       "2                                                NaN   \n",
       "3                                                NaN   \n",
       "4                                                NaN   \n",
       "\n",
       "                                           full_link  \n",
       "0  https://www.reddit.com/r/Green/comments/etfi0m...  \n",
       "1  https://www.reddit.com/r/Green/comments/etouq6...  \n",
       "2  https://www.reddit.com/r/Green/comments/etp02h...  \n",
       "3  https://www.reddit.com/r/Green/comments/etpv53...  \n",
       "4  https://www.reddit.com/r/Green/comments/etsaxl...  "
      ]
     },
     "execution_count": 3,
     "metadata": {},
     "output_type": "execute_result"
    }
   ],
   "source": [
    "combined_df= pd.read_csv(\"combined_csv.csv\")\n",
    "combined_df.head()"
   ]
  },
  {
   "cell_type": "code",
   "execution_count": 4,
   "id": "0267918c",
   "metadata": {},
   "outputs": [
    {
     "name": "stdout",
     "output_type": "stream",
     "text": [
      "<class 'pandas.core.frame.DataFrame'>\n",
      "RangeIndex: 12412 entries, 0 to 12411\n",
      "Data columns (total 5 columns):\n",
      " #   Column       Non-Null Count  Dtype \n",
      "---  ------       --------------  ----- \n",
      " 0   id           12412 non-null  object\n",
      " 1   created_utc  12412 non-null  int64 \n",
      " 2   title        12412 non-null  object\n",
      " 3   selftext     4468 non-null   object\n",
      " 4   full_link    12412 non-null  object\n",
      "dtypes: int64(1), object(4)\n",
      "memory usage: 485.0+ KB\n"
     ]
    }
   ],
   "source": [
    "combined_df.info()"
   ]
  },
  {
   "cell_type": "code",
   "execution_count": 5,
   "id": "549c8dde",
   "metadata": {},
   "outputs": [],
   "source": [
    "import numpy as np"
   ]
  },
  {
   "cell_type": "code",
   "execution_count": 6,
   "id": "7af9384b",
   "metadata": {},
   "outputs": [
    {
     "data": {
      "text/html": [
       "<div>\n",
       "<style scoped>\n",
       "    .dataframe tbody tr th:only-of-type {\n",
       "        vertical-align: middle;\n",
       "    }\n",
       "\n",
       "    .dataframe tbody tr th {\n",
       "        vertical-align: top;\n",
       "    }\n",
       "\n",
       "    .dataframe thead th {\n",
       "        text-align: right;\n",
       "    }\n",
       "</style>\n",
       "<table border=\"1\" class=\"dataframe\">\n",
       "  <thead>\n",
       "    <tr style=\"text-align: right;\">\n",
       "      <th></th>\n",
       "      <th>id</th>\n",
       "      <th>created_utc</th>\n",
       "      <th>title</th>\n",
       "      <th>selftext</th>\n",
       "      <th>full_link</th>\n",
       "    </tr>\n",
       "  </thead>\n",
       "  <tbody>\n",
       "    <tr>\n",
       "      <th>0</th>\n",
       "      <td>etfi0m</td>\n",
       "      <td>1579895174</td>\n",
       "      <td>America’s New Drinking Problem? The Trump Admi...</td>\n",
       "      <td>\\n\\n[https://www.youtube.com/watch?v=K1eBxEwi...</td>\n",
       "      <td>https://www.reddit.com/r/Green/comments/etfi0m...</td>\n",
       "    </tr>\n",
       "    <tr>\n",
       "      <th>1</th>\n",
       "      <td>etouq6</td>\n",
       "      <td>1579945099</td>\n",
       "      <td>Trump’s gutting of environmental rules is push...</td>\n",
       "      <td></td>\n",
       "      <td>https://www.reddit.com/r/Green/comments/etouq6...</td>\n",
       "    </tr>\n",
       "    <tr>\n",
       "      <th>2</th>\n",
       "      <td>etp02h</td>\n",
       "      <td>1579946285</td>\n",
       "      <td>Greta Thunberg brushes off mockery from U.S. f...</td>\n",
       "      <td></td>\n",
       "      <td>https://www.reddit.com/r/Green/comments/etp02h...</td>\n",
       "    </tr>\n",
       "    <tr>\n",
       "      <th>3</th>\n",
       "      <td>etpv53</td>\n",
       "      <td>1579952926</td>\n",
       "      <td>'It's a crisis, not a change': the six Guardia...</td>\n",
       "      <td></td>\n",
       "      <td>https://www.reddit.com/r/Green/comments/etpv53...</td>\n",
       "    </tr>\n",
       "    <tr>\n",
       "      <th>4</th>\n",
       "      <td>etsaxl</td>\n",
       "      <td>1579967241</td>\n",
       "      <td>The Future will be Worse than We Thought</td>\n",
       "      <td></td>\n",
       "      <td>https://www.reddit.com/r/Green/comments/etsaxl...</td>\n",
       "    </tr>\n",
       "  </tbody>\n",
       "</table>\n",
       "</div>"
      ],
      "text/plain": [
       "       id  created_utc                                              title  \\\n",
       "0  etfi0m   1579895174  America’s New Drinking Problem? The Trump Admi...   \n",
       "1  etouq6   1579945099  Trump’s gutting of environmental rules is push...   \n",
       "2  etp02h   1579946285  Greta Thunberg brushes off mockery from U.S. f...   \n",
       "3  etpv53   1579952926  'It's a crisis, not a change': the six Guardia...   \n",
       "4  etsaxl   1579967241           The Future will be Worse than We Thought   \n",
       "\n",
       "                                            selftext  \\\n",
       "0   \\n\\n[https://www.youtube.com/watch?v=K1eBxEwi...   \n",
       "1                                                      \n",
       "2                                                      \n",
       "3                                                      \n",
       "4                                                      \n",
       "\n",
       "                                           full_link  \n",
       "0  https://www.reddit.com/r/Green/comments/etfi0m...  \n",
       "1  https://www.reddit.com/r/Green/comments/etouq6...  \n",
       "2  https://www.reddit.com/r/Green/comments/etp02h...  \n",
       "3  https://www.reddit.com/r/Green/comments/etpv53...  \n",
       "4  https://www.reddit.com/r/Green/comments/etsaxl...  "
      ]
     },
     "execution_count": 6,
     "metadata": {},
     "output_type": "execute_result"
    }
   ],
   "source": [
    "combined_df[\"selftext\"]=combined_df[\"selftext\"].replace(np.nan,\" \")\n",
    "combined_df.head()"
   ]
  },
  {
   "cell_type": "code",
   "execution_count": 7,
   "id": "97b57d76",
   "metadata": {},
   "outputs": [],
   "source": [
    "combined_df[\"content\"] = combined_df[\"title\"] +\" \"+ combined_df[\"selftext\"]"
   ]
  },
  {
   "cell_type": "code",
   "execution_count": 8,
   "id": "a003a531",
   "metadata": {},
   "outputs": [
    {
     "data": {
      "text/html": [
       "<div>\n",
       "<style scoped>\n",
       "    .dataframe tbody tr th:only-of-type {\n",
       "        vertical-align: middle;\n",
       "    }\n",
       "\n",
       "    .dataframe tbody tr th {\n",
       "        vertical-align: top;\n",
       "    }\n",
       "\n",
       "    .dataframe thead th {\n",
       "        text-align: right;\n",
       "    }\n",
       "</style>\n",
       "<table border=\"1\" class=\"dataframe\">\n",
       "  <thead>\n",
       "    <tr style=\"text-align: right;\">\n",
       "      <th></th>\n",
       "      <th>id</th>\n",
       "      <th>created_utc</th>\n",
       "      <th>title</th>\n",
       "      <th>selftext</th>\n",
       "      <th>full_link</th>\n",
       "      <th>content</th>\n",
       "    </tr>\n",
       "  </thead>\n",
       "  <tbody>\n",
       "    <tr>\n",
       "      <th>0</th>\n",
       "      <td>etfi0m</td>\n",
       "      <td>1579895174</td>\n",
       "      <td>America’s New Drinking Problem? The Trump Admi...</td>\n",
       "      <td>\\n\\n[https://www.youtube.com/watch?v=K1eBxEwi...</td>\n",
       "      <td>https://www.reddit.com/r/Green/comments/etfi0m...</td>\n",
       "      <td>America’s New Drinking Problem? The Trump Admi...</td>\n",
       "    </tr>\n",
       "    <tr>\n",
       "      <th>1</th>\n",
       "      <td>etouq6</td>\n",
       "      <td>1579945099</td>\n",
       "      <td>Trump’s gutting of environmental rules is push...</td>\n",
       "      <td></td>\n",
       "      <td>https://www.reddit.com/r/Green/comments/etouq6...</td>\n",
       "      <td>Trump’s gutting of environmental rules is push...</td>\n",
       "    </tr>\n",
       "    <tr>\n",
       "      <th>2</th>\n",
       "      <td>etp02h</td>\n",
       "      <td>1579946285</td>\n",
       "      <td>Greta Thunberg brushes off mockery from U.S. f...</td>\n",
       "      <td></td>\n",
       "      <td>https://www.reddit.com/r/Green/comments/etp02h...</td>\n",
       "      <td>Greta Thunberg brushes off mockery from U.S. f...</td>\n",
       "    </tr>\n",
       "    <tr>\n",
       "      <th>3</th>\n",
       "      <td>etpv53</td>\n",
       "      <td>1579952926</td>\n",
       "      <td>'It's a crisis, not a change': the six Guardia...</td>\n",
       "      <td></td>\n",
       "      <td>https://www.reddit.com/r/Green/comments/etpv53...</td>\n",
       "      <td>'It's a crisis, not a change': the six Guardia...</td>\n",
       "    </tr>\n",
       "    <tr>\n",
       "      <th>4</th>\n",
       "      <td>etsaxl</td>\n",
       "      <td>1579967241</td>\n",
       "      <td>The Future will be Worse than We Thought</td>\n",
       "      <td></td>\n",
       "      <td>https://www.reddit.com/r/Green/comments/etsaxl...</td>\n",
       "      <td>The Future will be Worse than We Thought</td>\n",
       "    </tr>\n",
       "  </tbody>\n",
       "</table>\n",
       "</div>"
      ],
      "text/plain": [
       "       id  created_utc                                              title  \\\n",
       "0  etfi0m   1579895174  America’s New Drinking Problem? The Trump Admi...   \n",
       "1  etouq6   1579945099  Trump’s gutting of environmental rules is push...   \n",
       "2  etp02h   1579946285  Greta Thunberg brushes off mockery from U.S. f...   \n",
       "3  etpv53   1579952926  'It's a crisis, not a change': the six Guardia...   \n",
       "4  etsaxl   1579967241           The Future will be Worse than We Thought   \n",
       "\n",
       "                                            selftext  \\\n",
       "0   \\n\\n[https://www.youtube.com/watch?v=K1eBxEwi...   \n",
       "1                                                      \n",
       "2                                                      \n",
       "3                                                      \n",
       "4                                                      \n",
       "\n",
       "                                           full_link  \\\n",
       "0  https://www.reddit.com/r/Green/comments/etfi0m...   \n",
       "1  https://www.reddit.com/r/Green/comments/etouq6...   \n",
       "2  https://www.reddit.com/r/Green/comments/etp02h...   \n",
       "3  https://www.reddit.com/r/Green/comments/etpv53...   \n",
       "4  https://www.reddit.com/r/Green/comments/etsaxl...   \n",
       "\n",
       "                                             content  \n",
       "0  America’s New Drinking Problem? The Trump Admi...  \n",
       "1  Trump’s gutting of environmental rules is push...  \n",
       "2  Greta Thunberg brushes off mockery from U.S. f...  \n",
       "3  'It's a crisis, not a change': the six Guardia...  \n",
       "4         The Future will be Worse than We Thought    "
      ]
     },
     "execution_count": 8,
     "metadata": {},
     "output_type": "execute_result"
    }
   ],
   "source": [
    "combined_df.head()"
   ]
  },
  {
   "cell_type": "code",
   "execution_count": 9,
   "id": "d7751630",
   "metadata": {},
   "outputs": [
    {
     "data": {
      "text/plain": [
       "'Trump’s gutting of environmental rules is pushing us back into dark days of ignorance | Eco Planet News'"
      ]
     },
     "execution_count": 9,
     "metadata": {},
     "output_type": "execute_result"
    }
   ],
   "source": [
    "combined_df[\"title\"][1]"
   ]
  },
  {
   "cell_type": "code",
   "execution_count": 10,
   "id": "2ad01a3f",
   "metadata": {},
   "outputs": [
    {
     "data": {
      "text/plain": [
       "'Trump’s gutting of environmental rules is pushing us back into dark days of ignorance | Eco Planet News  '"
      ]
     },
     "execution_count": 10,
     "metadata": {},
     "output_type": "execute_result"
    }
   ],
   "source": [
    "combined_df[\"content\"][1]"
   ]
  },
  {
   "cell_type": "code",
   "execution_count": 33,
   "id": "9b8a2a7e",
   "metadata": {},
   "outputs": [
    {
     "ename": "TypeError",
     "evalue": "unhashable type: 'numpy.ndarray'",
     "output_type": "error",
     "traceback": [
      "\u001b[1;31m---------------------------------------------------------------------------\u001b[0m",
      "\u001b[1;31mTypeError\u001b[0m                                 Traceback (most recent call last)",
      "\u001b[1;32m<ipython-input-33-21212c888eeb>\u001b[0m in \u001b[0;36m<module>\u001b[1;34m\u001b[0m\n\u001b[1;32m----> 1\u001b[1;33m \u001b[0mdata\u001b[0m \u001b[1;33m=\u001b[0m \u001b[1;33m{\u001b[0m\u001b[0mcombined_df\u001b[0m\u001b[1;33m[\u001b[0m\u001b[1;34m'id'\u001b[0m\u001b[1;33m]\u001b[0m\u001b[1;33m.\u001b[0m\u001b[0mvalues\u001b[0m\u001b[1;33m,\u001b[0m \u001b[0mcombined_df\u001b[0m\u001b[1;33m[\u001b[0m\u001b[1;34m\"content\"\u001b[0m\u001b[1;33m]\u001b[0m\u001b[1;33m.\u001b[0m\u001b[0mvalues\u001b[0m\u001b[1;33m}\u001b[0m\u001b[1;33m\u001b[0m\u001b[1;33m\u001b[0m\u001b[0m\n\u001b[0m",
      "\u001b[1;31mTypeError\u001b[0m: unhashable type: 'numpy.ndarray'"
     ]
    }
   ],
   "source": [
    "data = {combined_df['id'].values, combined_df[\"content\"].values}"
   ]
  },
  {
   "cell_type": "code",
   "execution_count": 11,
   "id": "30508f84",
   "metadata": {},
   "outputs": [],
   "source": [
    "original_df= pd.DataFrame(combined_df, columns = [\"id\", \"content\"])"
   ]
  },
  {
   "cell_type": "code",
   "execution_count": 12,
   "id": "ba017456",
   "metadata": {},
   "outputs": [
    {
     "data": {
      "text/html": [
       "<div>\n",
       "<style scoped>\n",
       "    .dataframe tbody tr th:only-of-type {\n",
       "        vertical-align: middle;\n",
       "    }\n",
       "\n",
       "    .dataframe tbody tr th {\n",
       "        vertical-align: top;\n",
       "    }\n",
       "\n",
       "    .dataframe thead th {\n",
       "        text-align: right;\n",
       "    }\n",
       "</style>\n",
       "<table border=\"1\" class=\"dataframe\">\n",
       "  <thead>\n",
       "    <tr style=\"text-align: right;\">\n",
       "      <th></th>\n",
       "      <th>id</th>\n",
       "      <th>content</th>\n",
       "    </tr>\n",
       "  </thead>\n",
       "  <tbody>\n",
       "    <tr>\n",
       "      <th>0</th>\n",
       "      <td>etfi0m</td>\n",
       "      <td>America’s New Drinking Problem? The Trump Admi...</td>\n",
       "    </tr>\n",
       "    <tr>\n",
       "      <th>1</th>\n",
       "      <td>etouq6</td>\n",
       "      <td>Trump’s gutting of environmental rules is push...</td>\n",
       "    </tr>\n",
       "    <tr>\n",
       "      <th>2</th>\n",
       "      <td>etp02h</td>\n",
       "      <td>Greta Thunberg brushes off mockery from U.S. f...</td>\n",
       "    </tr>\n",
       "    <tr>\n",
       "      <th>3</th>\n",
       "      <td>etpv53</td>\n",
       "      <td>'It's a crisis, not a change': the six Guardia...</td>\n",
       "    </tr>\n",
       "    <tr>\n",
       "      <th>4</th>\n",
       "      <td>etsaxl</td>\n",
       "      <td>The Future will be Worse than We Thought</td>\n",
       "    </tr>\n",
       "  </tbody>\n",
       "</table>\n",
       "</div>"
      ],
      "text/plain": [
       "       id                                            content\n",
       "0  etfi0m  America’s New Drinking Problem? The Trump Admi...\n",
       "1  etouq6  Trump’s gutting of environmental rules is push...\n",
       "2  etp02h  Greta Thunberg brushes off mockery from U.S. f...\n",
       "3  etpv53  'It's a crisis, not a change': the six Guardia...\n",
       "4  etsaxl         The Future will be Worse than We Thought  "
      ]
     },
     "execution_count": 12,
     "metadata": {},
     "output_type": "execute_result"
    }
   ],
   "source": [
    "original_df.head()"
   ]
  },
  {
   "cell_type": "code",
   "execution_count": 13,
   "id": "4f96d47b",
   "metadata": {},
   "outputs": [],
   "source": [
    "#export to csv\n",
    "original_df.to_csv( \"original_df.csv\", index=False, encoding='utf-8-sig')"
   ]
  },
  {
   "cell_type": "markdown",
   "id": "fcc86a41",
   "metadata": {},
   "source": [
    "# A) Original DF"
   ]
  },
  {
   "cell_type": "code",
   "execution_count": 15,
   "id": "bd5809c5",
   "metadata": {},
   "outputs": [
    {
     "data": {
      "text/html": [
       "<div>\n",
       "<style scoped>\n",
       "    .dataframe tbody tr th:only-of-type {\n",
       "        vertical-align: middle;\n",
       "    }\n",
       "\n",
       "    .dataframe tbody tr th {\n",
       "        vertical-align: top;\n",
       "    }\n",
       "\n",
       "    .dataframe thead th {\n",
       "        text-align: right;\n",
       "    }\n",
       "</style>\n",
       "<table border=\"1\" class=\"dataframe\">\n",
       "  <thead>\n",
       "    <tr style=\"text-align: right;\">\n",
       "      <th></th>\n",
       "      <th>id</th>\n",
       "      <th>content</th>\n",
       "    </tr>\n",
       "  </thead>\n",
       "  <tbody>\n",
       "    <tr>\n",
       "      <th>0</th>\n",
       "      <td>etfi0m</td>\n",
       "      <td>America’s New Drinking Problem? The Trump Admi...</td>\n",
       "    </tr>\n",
       "    <tr>\n",
       "      <th>1</th>\n",
       "      <td>etouq6</td>\n",
       "      <td>Trump’s gutting of environmental rules is push...</td>\n",
       "    </tr>\n",
       "    <tr>\n",
       "      <th>2</th>\n",
       "      <td>etp02h</td>\n",
       "      <td>Greta Thunberg brushes off mockery from U.S. f...</td>\n",
       "    </tr>\n",
       "    <tr>\n",
       "      <th>3</th>\n",
       "      <td>etpv53</td>\n",
       "      <td>'It's a crisis, not a change': the six Guardia...</td>\n",
       "    </tr>\n",
       "    <tr>\n",
       "      <th>4</th>\n",
       "      <td>etsaxl</td>\n",
       "      <td>The Future will be Worse than We Thought</td>\n",
       "    </tr>\n",
       "  </tbody>\n",
       "</table>\n",
       "</div>"
      ],
      "text/plain": [
       "       id                                            content\n",
       "0  etfi0m  America’s New Drinking Problem? The Trump Admi...\n",
       "1  etouq6  Trump’s gutting of environmental rules is push...\n",
       "2  etp02h  Greta Thunberg brushes off mockery from U.S. f...\n",
       "3  etpv53  'It's a crisis, not a change': the six Guardia...\n",
       "4  etsaxl         The Future will be Worse than We Thought  "
      ]
     },
     "execution_count": 15,
     "metadata": {},
     "output_type": "execute_result"
    }
   ],
   "source": [
    "original_df= pd.read_csv(\"original_df.csv\")\n",
    "original_df.head()"
   ]
  },
  {
   "cell_type": "code",
   "execution_count": 16,
   "id": "2bcaf181",
   "metadata": {},
   "outputs": [
    {
     "name": "stdout",
     "output_type": "stream",
     "text": [
      "<class 'pandas.core.frame.DataFrame'>\n",
      "RangeIndex: 12412 entries, 0 to 12411\n",
      "Data columns (total 2 columns):\n",
      " #   Column   Non-Null Count  Dtype \n",
      "---  ------   --------------  ----- \n",
      " 0   id       12412 non-null  object\n",
      " 1   content  12412 non-null  object\n",
      "dtypes: object(2)\n",
      "memory usage: 194.1+ KB\n"
     ]
    }
   ],
   "source": [
    "original_df.info()"
   ]
  },
  {
   "cell_type": "code",
   "execution_count": 17,
   "id": "f4be7b83",
   "metadata": {},
   "outputs": [],
   "source": [
    "df=original_df.copy()"
   ]
  },
  {
   "cell_type": "code",
   "execution_count": 18,
   "id": "aa6fab56",
   "metadata": {},
   "outputs": [
    {
     "data": {
      "text/html": [
       "<div>\n",
       "<style scoped>\n",
       "    .dataframe tbody tr th:only-of-type {\n",
       "        vertical-align: middle;\n",
       "    }\n",
       "\n",
       "    .dataframe tbody tr th {\n",
       "        vertical-align: top;\n",
       "    }\n",
       "\n",
       "    .dataframe thead th {\n",
       "        text-align: right;\n",
       "    }\n",
       "</style>\n",
       "<table border=\"1\" class=\"dataframe\">\n",
       "  <thead>\n",
       "    <tr style=\"text-align: right;\">\n",
       "      <th></th>\n",
       "      <th>id</th>\n",
       "      <th>content</th>\n",
       "    </tr>\n",
       "  </thead>\n",
       "  <tbody>\n",
       "    <tr>\n",
       "      <th>12402</th>\n",
       "      <td>rx37xd</td>\n",
       "      <td>The 1st Week at COP26 – ‘News’worthy or ‘Noise...</td>\n",
       "    </tr>\n",
       "    <tr>\n",
       "      <th>12403</th>\n",
       "      <td>rx60dd</td>\n",
       "      <td>To all Australia-based sustainable business fo...</td>\n",
       "    </tr>\n",
       "    <tr>\n",
       "      <th>12404</th>\n",
       "      <td>rx64jm</td>\n",
       "      <td>Not the typical post but we may have a new the...</td>\n",
       "    </tr>\n",
       "    <tr>\n",
       "      <th>12405</th>\n",
       "      <td>rx89eo</td>\n",
       "      <td>Sustainable, transparent, energy-efficient clo...</td>\n",
       "    </tr>\n",
       "    <tr>\n",
       "      <th>12406</th>\n",
       "      <td>rxdl7i</td>\n",
       "      <td>George Monbiot on \"Don't Look Up\" [https://www...</td>\n",
       "    </tr>\n",
       "    <tr>\n",
       "      <th>12407</th>\n",
       "      <td>rxebez</td>\n",
       "      <td>Majority of top chemicals on market deemed env...</td>\n",
       "    </tr>\n",
       "    <tr>\n",
       "      <th>12408</th>\n",
       "      <td>rxin12</td>\n",
       "      <td>Debate Topic: Prove that manufacturing vaccine...</td>\n",
       "    </tr>\n",
       "    <tr>\n",
       "      <th>12409</th>\n",
       "      <td>rxnl61</td>\n",
       "      <td>Going Green About a year ago I purchased GOTS ...</td>\n",
       "    </tr>\n",
       "    <tr>\n",
       "      <th>12410</th>\n",
       "      <td>rxozjy</td>\n",
       "      <td>Hey, we saved some plastic and plastic polutio...</td>\n",
       "    </tr>\n",
       "    <tr>\n",
       "      <th>12411</th>\n",
       "      <td>rxvkpg</td>\n",
       "      <td>Googled plastic trash bag alternatives today. ...</td>\n",
       "    </tr>\n",
       "  </tbody>\n",
       "</table>\n",
       "</div>"
      ],
      "text/plain": [
       "           id                                            content\n",
       "12402  rx37xd  The 1st Week at COP26 – ‘News’worthy or ‘Noise...\n",
       "12403  rx60dd  To all Australia-based sustainable business fo...\n",
       "12404  rx64jm  Not the typical post but we may have a new the...\n",
       "12405  rx89eo  Sustainable, transparent, energy-efficient clo...\n",
       "12406  rxdl7i  George Monbiot on \"Don't Look Up\" [https://www...\n",
       "12407  rxebez  Majority of top chemicals on market deemed env...\n",
       "12408  rxin12  Debate Topic: Prove that manufacturing vaccine...\n",
       "12409  rxnl61  Going Green About a year ago I purchased GOTS ...\n",
       "12410  rxozjy  Hey, we saved some plastic and plastic polutio...\n",
       "12411  rxvkpg  Googled plastic trash bag alternatives today. ..."
      ]
     },
     "execution_count": 18,
     "metadata": {},
     "output_type": "execute_result"
    }
   ],
   "source": [
    "df.tail(10)"
   ]
  },
  {
   "cell_type": "code",
   "execution_count": 19,
   "id": "25793860",
   "metadata": {},
   "outputs": [
    {
     "name": "stdout",
     "output_type": "stream",
     "text": [
      "Training Set Shape = (12412, 2)\n",
      "Training Set Memory Usage = 0.19 MB\n"
     ]
    }
   ],
   "source": [
    "print('Training Set Shape = {}'.format(df.shape))\n",
    "print('Training Set Memory Usage = {:.2f} MB'.format(df.memory_usage().sum() / 1024**2))"
   ]
  },
  {
   "cell_type": "code",
   "execution_count": 20,
   "id": "f6b723ed",
   "metadata": {},
   "outputs": [
    {
     "data": {
      "text/html": [
       "<div>\n",
       "<style scoped>\n",
       "    .dataframe tbody tr th:only-of-type {\n",
       "        vertical-align: middle;\n",
       "    }\n",
       "\n",
       "    .dataframe tbody tr th {\n",
       "        vertical-align: top;\n",
       "    }\n",
       "\n",
       "    .dataframe thead th {\n",
       "        text-align: right;\n",
       "    }\n",
       "</style>\n",
       "<table border=\"1\" class=\"dataframe\">\n",
       "  <thead>\n",
       "    <tr style=\"text-align: right;\">\n",
       "      <th></th>\n",
       "      <th>id</th>\n",
       "      <th>content</th>\n",
       "      <th>wordcount</th>\n",
       "    </tr>\n",
       "  </thead>\n",
       "  <tbody>\n",
       "    <tr>\n",
       "      <th>0</th>\n",
       "      <td>etfi0m</td>\n",
       "      <td>America’s New Drinking Problem? The Trump Admi...</td>\n",
       "      <td>106</td>\n",
       "    </tr>\n",
       "    <tr>\n",
       "      <th>1</th>\n",
       "      <td>etouq6</td>\n",
       "      <td>Trump’s gutting of environmental rules is push...</td>\n",
       "      <td>18</td>\n",
       "    </tr>\n",
       "    <tr>\n",
       "      <th>2</th>\n",
       "      <td>etp02h</td>\n",
       "      <td>Greta Thunberg brushes off mockery from U.S. f...</td>\n",
       "      <td>16</td>\n",
       "    </tr>\n",
       "    <tr>\n",
       "      <th>3</th>\n",
       "      <td>etpv53</td>\n",
       "      <td>'It's a crisis, not a change': the six Guardia...</td>\n",
       "      <td>16</td>\n",
       "    </tr>\n",
       "    <tr>\n",
       "      <th>4</th>\n",
       "      <td>etsaxl</td>\n",
       "      <td>The Future will be Worse than We Thought</td>\n",
       "      <td>8</td>\n",
       "    </tr>\n",
       "  </tbody>\n",
       "</table>\n",
       "</div>"
      ],
      "text/plain": [
       "       id                                            content  wordcount\n",
       "0  etfi0m  America’s New Drinking Problem? The Trump Admi...        106\n",
       "1  etouq6  Trump’s gutting of environmental rules is push...         18\n",
       "2  etp02h  Greta Thunberg brushes off mockery from U.S. f...         16\n",
       "3  etpv53  'It's a crisis, not a change': the six Guardia...         16\n",
       "4  etsaxl         The Future will be Worse than We Thought            8"
      ]
     },
     "execution_count": 20,
     "metadata": {},
     "output_type": "execute_result"
    }
   ],
   "source": [
    "df[\"wordcount\"]=[len(x.split()) for x in df['content'].tolist()]\n",
    "df.head()"
   ]
  },
  {
   "cell_type": "markdown",
   "id": "bde0d46a",
   "metadata": {},
   "source": [
    "# DATA CLEANING"
   ]
  },
  {
   "cell_type": "markdown",
   "id": "a3277dd2",
   "metadata": {},
   "source": [
    "Before data cleaning, I would like to go on from the first comment \"America’s New Drinking Problem?....\".\n",
    "\n",
    "What I want to measure is the effectiveness of two different libraries"
   ]
  },
  {
   "cell_type": "code",
   "execution_count": 21,
   "id": "1345bcf8",
   "metadata": {},
   "outputs": [
    {
     "data": {
      "text/plain": [
       "860"
      ]
     },
     "execution_count": 21,
     "metadata": {},
     "output_type": "execute_result"
    }
   ],
   "source": [
    "# sO THE LENGTH OF THE FIRST COMMENT\n",
    "len(df[\"content\"][0])"
   ]
  },
  {
   "cell_type": "markdown",
   "id": "05908041",
   "metadata": {},
   "source": [
    "### Step 1: Punctuation\n",
    "The title text has several punctuations. Punctuations are often unnecessary as it doesn’t add value or meaning to the NLP model. The “string” library has 32 punctuations. The punctuations are:"
   ]
  },
  {
   "cell_type": "code",
   "execution_count": 22,
   "id": "c5f873d7",
   "metadata": {},
   "outputs": [],
   "source": [
    "import neattext.functions as nfx"
   ]
  },
  {
   "cell_type": "code",
   "execution_count": 23,
   "id": "fc8f3e5a",
   "metadata": {},
   "outputs": [
    {
     "data": {
      "text/plain": [
       "['BTC_ADDRESS_REGEX',\n",
       " 'CURRENCY_REGEX',\n",
       " 'CURRENCY_SYMB_REGEX',\n",
       " 'Counter',\n",
       " 'DATE_REGEX',\n",
       " 'EMAIL_REGEX',\n",
       " 'EMOJI_REGEX',\n",
       " 'HASTAG_REGEX',\n",
       " 'MASTERCard_REGEX',\n",
       " 'MD5_SHA_REGEX',\n",
       " 'MOST_COMMON_PUNCT_REGEX',\n",
       " 'NUMBERS_REGEX',\n",
       " 'PHONE_REGEX',\n",
       " 'PoBOX_REGEX',\n",
       " 'SPECIAL_CHARACTERS_REGEX',\n",
       " 'STOPWORDS',\n",
       " 'STOPWORDS_de',\n",
       " 'STOPWORDS_en',\n",
       " 'STOPWORDS_es',\n",
       " 'STOPWORDS_fr',\n",
       " 'STOPWORDS_ru',\n",
       " 'STOPWORDS_yo',\n",
       " 'STREET_ADDRESS_REGEX',\n",
       " 'TextFrame',\n",
       " 'URL_PATTERN',\n",
       " 'USER_HANDLES_REGEX',\n",
       " 'VISACard_REGEX',\n",
       " '__builtins__',\n",
       " '__cached__',\n",
       " '__doc__',\n",
       " '__file__',\n",
       " '__generate_text',\n",
       " '__loader__',\n",
       " '__name__',\n",
       " '__numbers_dict',\n",
       " '__package__',\n",
       " '__spec__',\n",
       " '_lex_richness_herdan',\n",
       " '_lex_richness_maas_ttr',\n",
       " 'clean_text',\n",
       " 'defaultdict',\n",
       " 'digit2words',\n",
       " 'extract_btc_address',\n",
       " 'extract_currencies',\n",
       " 'extract_currency_symbols',\n",
       " 'extract_dates',\n",
       " 'extract_emails',\n",
       " 'extract_emojis',\n",
       " 'extract_hashtags',\n",
       " 'extract_html_tags',\n",
       " 'extract_mastercard_addr',\n",
       " 'extract_md5sha',\n",
       " 'extract_numbers',\n",
       " 'extract_pattern',\n",
       " 'extract_phone_numbers',\n",
       " 'extract_postoffice_box',\n",
       " 'extract_shortwords',\n",
       " 'extract_special_characters',\n",
       " 'extract_stopwords',\n",
       " 'extract_street_address',\n",
       " 'extract_terms_in_bracket',\n",
       " 'extract_urls',\n",
       " 'extract_userhandles',\n",
       " 'extract_visacard_addr',\n",
       " 'fix_contractions',\n",
       " 'generate_sentence',\n",
       " 'hamming_distance',\n",
       " 'inverse_df',\n",
       " 'lexical_richness',\n",
       " 'markov_chain',\n",
       " 'math',\n",
       " 'nlargest',\n",
       " 'normalize',\n",
       " 'num2words',\n",
       " 'random',\n",
       " 're',\n",
       " 'read_txt',\n",
       " 'remove_bad_quotes',\n",
       " 'remove_btc_address',\n",
       " 'remove_currencies',\n",
       " 'remove_currency_symbols',\n",
       " 'remove_custom_pattern',\n",
       " 'remove_custom_words',\n",
       " 'remove_dates',\n",
       " 'remove_emails',\n",
       " 'remove_emojis',\n",
       " 'remove_hashtags',\n",
       " 'remove_html_tags',\n",
       " 'remove_mastercard_addr',\n",
       " 'remove_md5sha',\n",
       " 'remove_multiple_spaces',\n",
       " 'remove_non_ascii',\n",
       " 'remove_numbers',\n",
       " 'remove_phone_numbers',\n",
       " 'remove_postoffice_box',\n",
       " 'remove_puncts',\n",
       " 'remove_punctuations',\n",
       " 'remove_shortwords',\n",
       " 'remove_special_characters',\n",
       " 'remove_stopwords',\n",
       " 'remove_street_address',\n",
       " 'remove_terms_in_bracket',\n",
       " 'remove_urls',\n",
       " 'remove_userhandles',\n",
       " 'remove_visacard_addr',\n",
       " 'replace_bad_quotes',\n",
       " 'replace_currencies',\n",
       " 'replace_currency_symbols',\n",
       " 'replace_dates',\n",
       " 'replace_emails',\n",
       " 'replace_emojis',\n",
       " 'replace_numbers',\n",
       " 'replace_phone_numbers',\n",
       " 'replace_special_characters',\n",
       " 'replace_term',\n",
       " 'replace_urls',\n",
       " 'string',\n",
       " 'term_freq',\n",
       " 'to_txt',\n",
       " 'word_freq',\n",
       " 'word_length_freq']"
      ]
     },
     "execution_count": 23,
     "metadata": {},
     "output_type": "execute_result"
    }
   ],
   "source": [
    "# This directory comes from neattext package to clean our text data.\n",
    "dir(nfx)"
   ]
  },
  {
   "cell_type": "markdown",
   "id": "09eaaf8a",
   "metadata": {},
   "source": [
    "#### First Library is NEATTEXT"
   ]
  },
  {
   "cell_type": "code",
   "execution_count": 33,
   "id": "b092aeeb",
   "metadata": {},
   "outputs": [],
   "source": [
    "df1=df.copy()"
   ]
  },
  {
   "cell_type": "code",
   "execution_count": 25,
   "id": "f06a77bb",
   "metadata": {},
   "outputs": [
    {
     "data": {
      "text/plain": [
       "809"
      ]
     },
     "execution_count": 25,
     "metadata": {},
     "output_type": "execute_result"
    }
   ],
   "source": [
    "df1['content'] = df1['content'].apply(nfx.remove_special_characters)\n",
    "len(df1[\"content\"][0])"
   ]
  },
  {
   "cell_type": "code",
   "execution_count": 26,
   "id": "60a5b0d7",
   "metadata": {},
   "outputs": [
    {
     "data": {
      "text/plain": [
       "'Americas New Drinking Problem The Trump Administration Rolls Back the Clean Water Act  nnhttpswwwyoutubecomwatchvK1eBxEwiqi4ampfeatureyoutubehttpswwwyoutubecomwatchvK1eBxEwiqi4ampfeatureyoutubennPresident Trumps EPA just restricted the bodies of water that the federal government can regulate to the territorial seas and traditional navigable waters Perennial and intermittent tributaries to those waters Certain lakes ponds and impoundments and Wetlands adjacent to jurisdictional waters This unfortunately means that the federal government is no longer enforcing laws over many other waters including groundwater wetlands that are not adjacent to large bodies of water some seasonal streams that flow for only a portion of the year  and ephemeral streams that only flow after rainstorms Heres what the means'"
      ]
     },
     "execution_count": 26,
     "metadata": {},
     "output_type": "execute_result"
    }
   ],
   "source": [
    "df1[\"content\"][0]"
   ]
  },
  {
   "cell_type": "markdown",
   "id": "8b68988c",
   "metadata": {},
   "source": [
    "#### Second Library is STRING"
   ]
  },
  {
   "cell_type": "code",
   "execution_count": 27,
   "id": "b69f59f9",
   "metadata": {},
   "outputs": [],
   "source": [
    "df2=df.copy()"
   ]
  },
  {
   "cell_type": "code",
   "execution_count": 28,
   "id": "e53f194e",
   "metadata": {},
   "outputs": [
    {
     "data": {
      "text/plain": [
       "'!\"#$%&\\'()*+,-./:;<=>?@[\\\\]^_`{|}~'"
      ]
     },
     "execution_count": 28,
     "metadata": {},
     "output_type": "execute_result"
    }
   ],
   "source": [
    "import string\n",
    "string.punctuation"
   ]
  },
  {
   "cell_type": "code",
   "execution_count": 29,
   "id": "0314bcb7",
   "metadata": {},
   "outputs": [],
   "source": [
    "#defining the function to remove punctuation\n",
    "def remove_punctuation(text):\n",
    "    punctuationfree=\"\".join([i for i in text if i not in string.punctuation])\n",
    "    return punctuationfree"
   ]
  },
  {
   "cell_type": "code",
   "execution_count": 30,
   "id": "c6ef8392",
   "metadata": {},
   "outputs": [
    {
     "data": {
      "text/html": [
       "<div>\n",
       "<style scoped>\n",
       "    .dataframe tbody tr th:only-of-type {\n",
       "        vertical-align: middle;\n",
       "    }\n",
       "\n",
       "    .dataframe tbody tr th {\n",
       "        vertical-align: top;\n",
       "    }\n",
       "\n",
       "    .dataframe thead th {\n",
       "        text-align: right;\n",
       "    }\n",
       "</style>\n",
       "<table border=\"1\" class=\"dataframe\">\n",
       "  <thead>\n",
       "    <tr style=\"text-align: right;\">\n",
       "      <th></th>\n",
       "      <th>id</th>\n",
       "      <th>content</th>\n",
       "      <th>wordcount</th>\n",
       "    </tr>\n",
       "  </thead>\n",
       "  <tbody>\n",
       "    <tr>\n",
       "      <th>0</th>\n",
       "      <td>etfi0m</td>\n",
       "      <td>America’s New Drinking Problem The Trump Admin...</td>\n",
       "      <td>106</td>\n",
       "    </tr>\n",
       "    <tr>\n",
       "      <th>1</th>\n",
       "      <td>etouq6</td>\n",
       "      <td>Trump’s gutting of environmental rules is push...</td>\n",
       "      <td>18</td>\n",
       "    </tr>\n",
       "    <tr>\n",
       "      <th>2</th>\n",
       "      <td>etp02h</td>\n",
       "      <td>Greta Thunberg brushes off mockery from US fin...</td>\n",
       "      <td>16</td>\n",
       "    </tr>\n",
       "    <tr>\n",
       "      <th>3</th>\n",
       "      <td>etpv53</td>\n",
       "      <td>Its a crisis not a change the six Guardian lan...</td>\n",
       "      <td>16</td>\n",
       "    </tr>\n",
       "    <tr>\n",
       "      <th>4</th>\n",
       "      <td>etsaxl</td>\n",
       "      <td>The Future will be Worse than We Thought</td>\n",
       "      <td>8</td>\n",
       "    </tr>\n",
       "  </tbody>\n",
       "</table>\n",
       "</div>"
      ],
      "text/plain": [
       "       id                                            content  wordcount\n",
       "0  etfi0m  America’s New Drinking Problem The Trump Admin...        106\n",
       "1  etouq6  Trump’s gutting of environmental rules is push...         18\n",
       "2  etp02h  Greta Thunberg brushes off mockery from US fin...         16\n",
       "3  etpv53  Its a crisis not a change the six Guardian lan...         16\n",
       "4  etsaxl         The Future will be Worse than We Thought            8"
      ]
     },
     "execution_count": 30,
     "metadata": {},
     "output_type": "execute_result"
    }
   ],
   "source": [
    "#storing the puntuation free text\n",
    "df2['content']= df2['content'].apply(lambda x:remove_punctuation(x))\n",
    "df2.head()"
   ]
  },
  {
   "cell_type": "code",
   "execution_count": 32,
   "id": "a6047d80",
   "metadata": {},
   "outputs": [
    {
     "name": "stdout",
     "output_type": "stream",
     "text": [
      "814\n"
     ]
    },
    {
     "data": {
      "text/plain": [
       "'America’s New Drinking Problem The Trump Administration Rolls Back the Clean Water Act  nnhttpswwwyoutubecomwatchvK1eBxEwiqi4ampfeatureyoutubehttpswwwyoutubecomwatchvK1eBxEwiqi4ampfeatureyoutubennPresident Trump’s EPA just restricted the bodies of water that the federal government can regulate to the territorial seas and traditional navigable waters Perennial and intermittent tributaries to those waters Certain lakes ponds and impoundments and Wetlands adjacent to jurisdictional waters This unfortunately means that the federal government is no longer enforcing laws over many other waters including groundwater wetlands that are not adjacent to large bodies of water some seasonal streams that flow for only a portion of the year  and “ephemeral” streams that only flow after rainstorms Here’s what the means'"
      ]
     },
     "execution_count": 32,
     "metadata": {},
     "output_type": "execute_result"
    }
   ],
   "source": [
    "print(len(df2[\"content\"][0]))\n",
    "df2[\"content\"][0]"
   ]
  },
  {
   "cell_type": "markdown",
   "id": "c0132ce2",
   "metadata": {},
   "source": [
    "As a result of professional judgement of two result, we choose to use NEATTEXT library"
   ]
  },
  {
   "cell_type": "markdown",
   "id": "c1dfd754",
   "metadata": {},
   "source": [
    "### Step 2: Lowering the text"
   ]
  },
  {
   "cell_type": "code",
   "execution_count": 130,
   "id": "cde71fcb",
   "metadata": {},
   "outputs": [],
   "source": [
    "df1[\"content\"]= df1[\"content\"].apply(lambda x: x.lower())"
   ]
  },
  {
   "cell_type": "code",
   "execution_count": 131,
   "id": "3bea4917",
   "metadata": {},
   "outputs": [
    {
     "data": {
      "text/plain": [
       "'americas new drinking problem the trump administration rolls back the clean water act  nnhttpswwwyoutubecomwatchvk1ebxewiqi4ampfeatureyoutubehttpswwwyoutubecomwatchvk1ebxewiqi4ampfeatureyoutubennpresident trumps epa just restricted the bodies of water that the federal government can regulate to the territorial seas and traditional navigable waters perennial and intermittent tributaries to those waters certain lakes ponds and impoundments and wetlands adjacent to jurisdictional waters this unfortunately means that the federal government is no longer enforcing laws over many other waters including groundwater wetlands that are not adjacent to large bodies of water some seasonal streams that flow for only a portion of the year  and ephemeral streams that only flow after rainstorms heres what the means'"
      ]
     },
     "execution_count": 131,
     "metadata": {},
     "output_type": "execute_result"
    }
   ],
   "source": [
    "df1[\"content\"][0]"
   ]
  },
  {
   "cell_type": "markdown",
   "id": "0168f9ee",
   "metadata": {},
   "source": [
    "### Step 3: Tokenization"
   ]
  },
  {
   "cell_type": "code",
   "execution_count": 132,
   "id": "7e7683fb",
   "metadata": {},
   "outputs": [],
   "source": [
    "#defining function for tokenization\n",
    "import re\n",
    "def tokenization(text):\n",
    "    tokens = re.split('W+',text)\n",
    "    return tokens"
   ]
  },
  {
   "cell_type": "code",
   "execution_count": 133,
   "id": "1892d908",
   "metadata": {},
   "outputs": [],
   "source": [
    "#applying function to the column\n",
    "df1[\"content\"]= df1[\"content\"].apply(lambda x: tokenization(x))"
   ]
  },
  {
   "cell_type": "code",
   "execution_count": 134,
   "id": "3b75b282",
   "metadata": {},
   "outputs": [
    {
     "data": {
      "text/plain": [
       "['americas new drinking problem the trump administration rolls back the clean water act  nnhttpswwwyoutubecomwatchvk1ebxewiqi4ampfeatureyoutubehttpswwwyoutubecomwatchvk1ebxewiqi4ampfeatureyoutubennpresident trumps epa just restricted the bodies of water that the federal government can regulate to the territorial seas and traditional navigable waters perennial and intermittent tributaries to those waters certain lakes ponds and impoundments and wetlands adjacent to jurisdictional waters this unfortunately means that the federal government is no longer enforcing laws over many other waters including groundwater wetlands that are not adjacent to large bodies of water some seasonal streams that flow for only a portion of the year  and ephemeral streams that only flow after rainstorms heres what the means']"
      ]
     },
     "execution_count": 134,
     "metadata": {},
     "output_type": "execute_result"
    }
   ],
   "source": [
    "df1[\"content\"][0]"
   ]
  },
  {
   "cell_type": "markdown",
   "id": "02588440",
   "metadata": {},
   "source": [
    "# Step 4: Stop word removal"
   ]
  },
  {
   "cell_type": "code",
   "execution_count": 137,
   "id": "43ff4a1e",
   "metadata": {},
   "outputs": [
    {
     "name": "stdout",
     "output_type": "stream",
     "text": [
      "Collecting nltk\n",
      "  Downloading nltk-3.6.7-py3-none-any.whl (1.5 MB)\n",
      "Requirement already satisfied: tqdm in c:\\users\\naim cavin\\anaconda3\\lib\\site-packages (from nltk) (4.56.2)\n",
      "Requirement already satisfied: click in c:\\users\\naim cavin\\anaconda3\\lib\\site-packages (from nltk) (7.1.2)\n",
      "Requirement already satisfied: joblib in c:\\users\\naim cavin\\anaconda3\\lib\\site-packages (from nltk) (1.0.1)\n",
      "Requirement already satisfied: regex>=2021.8.3 in c:\\users\\naim cavin\\anaconda3\\lib\\site-packages (from nltk) (2021.11.10)\n",
      "Installing collected packages: nltk\n",
      "Successfully installed nltk-3.6.7\n"
     ]
    }
   ],
   "source": [
    "!pip install nltk"
   ]
  },
  {
   "cell_type": "code",
   "execution_count": 138,
   "id": "132739e3",
   "metadata": {},
   "outputs": [],
   "source": [
    "#importing nlp library\n",
    "import nltk"
   ]
  },
  {
   "cell_type": "code",
   "execution_count": 139,
   "id": "12a0648a",
   "metadata": {},
   "outputs": [],
   "source": [
    "#Stop words present in the library\n",
    "stopwords = nltk.corpus.stopwords.words('english')"
   ]
  },
  {
   "cell_type": "code",
   "execution_count": 140,
   "id": "da3929be",
   "metadata": {},
   "outputs": [],
   "source": [
    "#defining the function to remove stopwords from tokenized text\n",
    "def remove_stopwords(text):\n",
    "    output= [i for i in text if i not in stopwords]\n",
    "    return output"
   ]
  },
  {
   "cell_type": "code",
   "execution_count": 142,
   "id": "cea33b24",
   "metadata": {},
   "outputs": [],
   "source": [
    "#applying the function\n",
    "df1[\"content\"]= df1[\"content\"].apply(lambda x:remove_stopwords(x))"
   ]
  },
  {
   "cell_type": "code",
   "execution_count": 143,
   "id": "ece27cfc",
   "metadata": {},
   "outputs": [
    {
     "data": {
      "text/plain": [
       "['americas new drinking problem the trump administration rolls back the clean water act  nnhttpswwwyoutubecomwatchvk1ebxewiqi4ampfeatureyoutubehttpswwwyoutubecomwatchvk1ebxewiqi4ampfeatureyoutubennpresident trumps epa just restricted the bodies of water that the federal government can regulate to the territorial seas and traditional navigable waters perennial and intermittent tributaries to those waters certain lakes ponds and impoundments and wetlands adjacent to jurisdictional waters this unfortunately means that the federal government is no longer enforcing laws over many other waters including groundwater wetlands that are not adjacent to large bodies of water some seasonal streams that flow for only a portion of the year  and ephemeral streams that only flow after rainstorms heres what the means']"
      ]
     },
     "execution_count": 143,
     "metadata": {},
     "output_type": "execute_result"
    }
   ],
   "source": [
    "df1[\"content\"][0]"
   ]
  },
  {
   "cell_type": "markdown",
   "id": "cd96b8c9",
   "metadata": {},
   "source": [
    "### Step 5: Stemming"
   ]
  },
  {
   "cell_type": "code",
   "execution_count": 144,
   "id": "a8f1ec16",
   "metadata": {},
   "outputs": [],
   "source": [
    "#importing the Stemming function from nltk library\n",
    "from nltk.stem.porter import PorterStemmer\n",
    "#defining the object for stemming\n",
    "porter_stemmer = PorterStemmer()"
   ]
  },
  {
   "cell_type": "code",
   "execution_count": 146,
   "id": "21c43d9a",
   "metadata": {},
   "outputs": [],
   "source": [
    "#defining a function for stemming\n",
    "def stemming(text):\n",
    "    stem_text = [porter_stemmer.stem(word) for word in text]\n",
    "    return stem_text"
   ]
  },
  {
   "cell_type": "code",
   "execution_count": 147,
   "id": "e664e532",
   "metadata": {},
   "outputs": [],
   "source": [
    "df1[\"content\"]= df1[\"content\"].apply(lambda x: stemming(x))\n"
   ]
  },
  {
   "cell_type": "code",
   "execution_count": 148,
   "id": "ce56684e",
   "metadata": {},
   "outputs": [
    {
     "data": {
      "text/plain": [
       "['americas new drinking problem the trump administration rolls back the clean water act  nnhttpswwwyoutubecomwatchvk1ebxewiqi4ampfeatureyoutubehttpswwwyoutubecomwatchvk1ebxewiqi4ampfeatureyoutubennpresident trumps epa just restricted the bodies of water that the federal government can regulate to the territorial seas and traditional navigable waters perennial and intermittent tributaries to those waters certain lakes ponds and impoundments and wetlands adjacent to jurisdictional waters this unfortunately means that the federal government is no longer enforcing laws over many other waters including groundwater wetlands that are not adjacent to large bodies of water some seasonal streams that flow for only a portion of the year  and ephemeral streams that only flow after rainstorms heres what the mean']"
      ]
     },
     "execution_count": 148,
     "metadata": {},
     "output_type": "execute_result"
    }
   ],
   "source": [
    "df1[\"content\"][0]"
   ]
  },
  {
   "cell_type": "markdown",
   "id": "bdf35f52",
   "metadata": {},
   "source": [
    "### Step 6:Lemmatization"
   ]
  },
  {
   "cell_type": "code",
   "execution_count": 152,
   "id": "3c4e3dae",
   "metadata": {},
   "outputs": [
    {
     "name": "stdout",
     "output_type": "stream",
     "text": [
      "showing info https://raw.githubusercontent.com/nltk/nltk_data/gh-pages/index.xml\n",
      "showing info https://raw.githubusercontent.com/nltk/nltk_data/gh-pages/index.xml\n",
      "showing info https://raw.githubusercontent.com/nltk/nltk_data/gh-pages/index.xml\n",
      "showing info https://raw.githubusercontent.com/nltk/nltk_data/gh-pages/index.xml\n"
     ]
    },
    {
     "ename": "KeyboardInterrupt",
     "evalue": "",
     "output_type": "error",
     "traceback": [
      "\u001b[1;31m---------------------------------------------------------------------------\u001b[0m",
      "\u001b[1;31mKeyboardInterrupt\u001b[0m                         Traceback (most recent call last)",
      "\u001b[1;32m<ipython-input-152-3b02390c7677>\u001b[0m in \u001b[0;36m<module>\u001b[1;34m\u001b[0m\n\u001b[0;32m      1\u001b[0m \u001b[1;32mimport\u001b[0m \u001b[0mnltk\u001b[0m\u001b[1;33m\u001b[0m\u001b[1;33m\u001b[0m\u001b[0m\n\u001b[1;32m----> 2\u001b[1;33m \u001b[0mnltk\u001b[0m\u001b[1;33m.\u001b[0m\u001b[0mdownload\u001b[0m\u001b[1;33m(\u001b[0m\u001b[1;33m)\u001b[0m\u001b[1;33m\u001b[0m\u001b[1;33m\u001b[0m\u001b[0m\n\u001b[0m",
      "\u001b[1;32m~\\anaconda3\\lib\\site-packages\\nltk\\downloader.py\u001b[0m in \u001b[0;36mdownload\u001b[1;34m(self, info_or_id, download_dir, quiet, force, prefix, halt_on_error, raise_on_error, print_error_to)\u001b[0m\n\u001b[0;32m    761\u001b[0m             \u001b[1;32mif\u001b[0m \u001b[0mdownload_dir\u001b[0m \u001b[1;32mis\u001b[0m \u001b[1;32mnot\u001b[0m \u001b[1;32mNone\u001b[0m\u001b[1;33m:\u001b[0m\u001b[1;33m\u001b[0m\u001b[1;33m\u001b[0m\u001b[0m\n\u001b[0;32m    762\u001b[0m                 \u001b[0mself\u001b[0m\u001b[1;33m.\u001b[0m\u001b[0m_download_dir\u001b[0m \u001b[1;33m=\u001b[0m \u001b[0mdownload_dir\u001b[0m\u001b[1;33m\u001b[0m\u001b[1;33m\u001b[0m\u001b[0m\n\u001b[1;32m--> 763\u001b[1;33m             \u001b[0mself\u001b[0m\u001b[1;33m.\u001b[0m\u001b[0m_interactive_download\u001b[0m\u001b[1;33m(\u001b[0m\u001b[1;33m)\u001b[0m\u001b[1;33m\u001b[0m\u001b[1;33m\u001b[0m\u001b[0m\n\u001b[0m\u001b[0;32m    764\u001b[0m             \u001b[1;32mreturn\u001b[0m \u001b[1;32mTrue\u001b[0m\u001b[1;33m\u001b[0m\u001b[1;33m\u001b[0m\u001b[0m\n\u001b[0;32m    765\u001b[0m \u001b[1;33m\u001b[0m\u001b[0m\n",
      "\u001b[1;32m~\\anaconda3\\lib\\site-packages\\nltk\\downloader.py\u001b[0m in \u001b[0;36m_interactive_download\u001b[1;34m(self)\u001b[0m\n\u001b[0;32m   1111\u001b[0m         \u001b[1;32mif\u001b[0m \u001b[0mTKINTER\u001b[0m\u001b[1;33m:\u001b[0m\u001b[1;33m\u001b[0m\u001b[1;33m\u001b[0m\u001b[0m\n\u001b[0;32m   1112\u001b[0m             \u001b[1;32mtry\u001b[0m\u001b[1;33m:\u001b[0m\u001b[1;33m\u001b[0m\u001b[1;33m\u001b[0m\u001b[0m\n\u001b[1;32m-> 1113\u001b[1;33m                 \u001b[0mDownloaderGUI\u001b[0m\u001b[1;33m(\u001b[0m\u001b[0mself\u001b[0m\u001b[1;33m)\u001b[0m\u001b[1;33m.\u001b[0m\u001b[0mmainloop\u001b[0m\u001b[1;33m(\u001b[0m\u001b[1;33m)\u001b[0m\u001b[1;33m\u001b[0m\u001b[1;33m\u001b[0m\u001b[0m\n\u001b[0m\u001b[0;32m   1114\u001b[0m             \u001b[1;32mexcept\u001b[0m \u001b[0mTclError\u001b[0m\u001b[1;33m:\u001b[0m\u001b[1;33m\u001b[0m\u001b[1;33m\u001b[0m\u001b[0m\n\u001b[0;32m   1115\u001b[0m                 \u001b[0mDownloaderShell\u001b[0m\u001b[1;33m(\u001b[0m\u001b[0mself\u001b[0m\u001b[1;33m)\u001b[0m\u001b[1;33m.\u001b[0m\u001b[0mrun\u001b[0m\u001b[1;33m(\u001b[0m\u001b[1;33m)\u001b[0m\u001b[1;33m\u001b[0m\u001b[1;33m\u001b[0m\u001b[0m\n",
      "\u001b[1;32m~\\anaconda3\\lib\\site-packages\\nltk\\downloader.py\u001b[0m in \u001b[0;36mmainloop\u001b[1;34m(self, *args, **kwargs)\u001b[0m\n\u001b[0;32m   1930\u001b[0m \u001b[1;33m\u001b[0m\u001b[0m\n\u001b[0;32m   1931\u001b[0m     \u001b[1;32mdef\u001b[0m \u001b[0mmainloop\u001b[0m\u001b[1;33m(\u001b[0m\u001b[0mself\u001b[0m\u001b[1;33m,\u001b[0m \u001b[1;33m*\u001b[0m\u001b[0margs\u001b[0m\u001b[1;33m,\u001b[0m \u001b[1;33m**\u001b[0m\u001b[0mkwargs\u001b[0m\u001b[1;33m)\u001b[0m\u001b[1;33m:\u001b[0m\u001b[1;33m\u001b[0m\u001b[1;33m\u001b[0m\u001b[0m\n\u001b[1;32m-> 1932\u001b[1;33m         \u001b[0mself\u001b[0m\u001b[1;33m.\u001b[0m\u001b[0mtop\u001b[0m\u001b[1;33m.\u001b[0m\u001b[0mmainloop\u001b[0m\u001b[1;33m(\u001b[0m\u001b[1;33m*\u001b[0m\u001b[0margs\u001b[0m\u001b[1;33m,\u001b[0m \u001b[1;33m**\u001b[0m\u001b[0mkwargs\u001b[0m\u001b[1;33m)\u001b[0m\u001b[1;33m\u001b[0m\u001b[1;33m\u001b[0m\u001b[0m\n\u001b[0m\u001b[0;32m   1933\u001b[0m \u001b[1;33m\u001b[0m\u001b[0m\n\u001b[0;32m   1934\u001b[0m     \u001b[1;31m# /////////////////////////////////////////////////////////////////\u001b[0m\u001b[1;33m\u001b[0m\u001b[1;33m\u001b[0m\u001b[1;33m\u001b[0m\u001b[0m\n",
      "\u001b[1;32m~\\anaconda3\\lib\\tkinter\\__init__.py\u001b[0m in \u001b[0;36mmainloop\u001b[1;34m(self, n)\u001b[0m\n\u001b[0;32m   1427\u001b[0m     \u001b[1;32mdef\u001b[0m \u001b[0mmainloop\u001b[0m\u001b[1;33m(\u001b[0m\u001b[0mself\u001b[0m\u001b[1;33m,\u001b[0m \u001b[0mn\u001b[0m\u001b[1;33m=\u001b[0m\u001b[1;36m0\u001b[0m\u001b[1;33m)\u001b[0m\u001b[1;33m:\u001b[0m\u001b[1;33m\u001b[0m\u001b[1;33m\u001b[0m\u001b[0m\n\u001b[0;32m   1428\u001b[0m         \u001b[1;34m\"\"\"Call the mainloop of Tk.\"\"\"\u001b[0m\u001b[1;33m\u001b[0m\u001b[1;33m\u001b[0m\u001b[0m\n\u001b[1;32m-> 1429\u001b[1;33m         \u001b[0mself\u001b[0m\u001b[1;33m.\u001b[0m\u001b[0mtk\u001b[0m\u001b[1;33m.\u001b[0m\u001b[0mmainloop\u001b[0m\u001b[1;33m(\u001b[0m\u001b[0mn\u001b[0m\u001b[1;33m)\u001b[0m\u001b[1;33m\u001b[0m\u001b[1;33m\u001b[0m\u001b[0m\n\u001b[0m\u001b[0;32m   1430\u001b[0m \u001b[1;33m\u001b[0m\u001b[0m\n\u001b[0;32m   1431\u001b[0m     \u001b[1;32mdef\u001b[0m \u001b[0mquit\u001b[0m\u001b[1;33m(\u001b[0m\u001b[0mself\u001b[0m\u001b[1;33m)\u001b[0m\u001b[1;33m:\u001b[0m\u001b[1;33m\u001b[0m\u001b[1;33m\u001b[0m\u001b[0m\n",
      "\u001b[1;31mKeyboardInterrupt\u001b[0m: "
     ]
    }
   ],
   "source": [
    "import nltk\n",
    "nltk.download()"
   ]
  },
  {
   "cell_type": "code",
   "execution_count": 153,
   "id": "4f962fd8",
   "metadata": {},
   "outputs": [],
   "source": [
    "from nltk.stem import WordNetLemmatizer\n",
    "#defining the object for Lemmatization\n",
    "wordnet_lemmatizer = WordNetLemmatizer()"
   ]
  },
  {
   "cell_type": "code",
   "execution_count": 154,
   "id": "b080d36b",
   "metadata": {},
   "outputs": [],
   "source": [
    "#defining the function for lemmatization\n",
    "def lemmatizer(text):\n",
    "    lemm_text = [wordnet_lemmatizer.lemmatize(word) for word in text]\n",
    "    return lemm_text\n",
    "df1[\"content\"]= df1[\"content\"].apply(lambda x:lemmatizer(x))"
   ]
  },
  {
   "cell_type": "code",
   "execution_count": 155,
   "id": "1ef0239c",
   "metadata": {},
   "outputs": [
    {
     "data": {
      "text/plain": [
       "['americas new drinking problem the trump administration rolls back the clean water act  nnhttpswwwyoutubecomwatchvk1ebxewiqi4ampfeatureyoutubehttpswwwyoutubecomwatchvk1ebxewiqi4ampfeatureyoutubennpresident trumps epa just restricted the bodies of water that the federal government can regulate to the territorial seas and traditional navigable waters perennial and intermittent tributaries to those waters certain lakes ponds and impoundments and wetlands adjacent to jurisdictional waters this unfortunately means that the federal government is no longer enforcing laws over many other waters including groundwater wetlands that are not adjacent to large bodies of water some seasonal streams that flow for only a portion of the year  and ephemeral streams that only flow after rainstorms heres what the mean']"
      ]
     },
     "execution_count": 155,
     "metadata": {},
     "output_type": "execute_result"
    }
   ],
   "source": [
    "df1[\"content\"][0]"
   ]
  },
  {
   "cell_type": "markdown",
   "id": "ac5c72ef",
   "metadata": {},
   "source": [
    "# Exploratory Data Analysis (EDA) "
   ]
  },
  {
   "cell_type": "code",
   "execution_count": 43,
   "id": "7c7477b9",
   "metadata": {},
   "outputs": [],
   "source": [
    "import numpy as np\n",
    "import pandas as pd\n",
    "# For visualizations\n",
    "import matplotlib.pyplot as plt\n",
    "# For regular expressions\n",
    "import re\n",
    "# For handling string\n",
    "import string\n",
    "# For performing mathematical operations\n",
    "import math"
   ]
  },
  {
   "cell_type": "markdown",
   "id": "5cdf66c2",
   "metadata": {},
   "source": [
    "Let’s see if there are any null values present in our dataset:\n",
    "\n"
   ]
  },
  {
   "cell_type": "code",
   "execution_count": 45,
   "id": "cf95ce3f",
   "metadata": {},
   "outputs": [
    {
     "data": {
      "text/plain": [
       "id         0\n",
       "content    0\n",
       "dtype: int64"
      ]
     },
     "execution_count": 45,
     "metadata": {},
     "output_type": "execute_result"
    }
   ],
   "source": [
    "df.isnull().sum()"
   ]
  },
  {
   "cell_type": "code",
   "execution_count": 44,
   "id": "1253a7ac",
   "metadata": {},
   "outputs": [],
   "source": [
    "# Dictionary of English Contractions\n",
    "contractions_dict = { \"ain't\": \"are not\",\"'s\":\" is\",\"aren't\": \"are not\",\n",
    "                     \"can't\": \"cannot\",\"can't've\": \"cannot have\",\n",
    "                     \"'cause\": \"because\",\"could've\": \"could have\",\"couldn't\": \"could not\",\n",
    "                     \"couldn't've\": \"could not have\", \"didn't\": \"did not\",\"doesn't\": \"does not\",\n",
    "                     \"don't\": \"do not\",\"hadn't\": \"had not\",\"hadn't've\": \"had not have\",\n",
    "                     \"hasn't\": \"has not\",\"haven't\": \"have not\",\"he'd\": \"he would\",\n",
    "                     \"he'd've\": \"he would have\",\"he'll\": \"he will\", \"he'll've\": \"he will have\",\n",
    "                     \"how'd\": \"how did\",\"how'd'y\": \"how do you\",\"how'll\": \"how will\",\n",
    "                     \"I'd\": \"I would\", \"I'd've\": \"I would have\",\"I'll\": \"I will\",\n",
    "                     \"I'll've\": \"I will have\",\"I'm\": \"I am\",\"I've\": \"I have\", \"isn't\": \"is not\",\n",
    "                     \"it'd\": \"it would\",\"it'd've\": \"it would have\",\"it'll\": \"it will\",\n",
    "                     \"it'll've\": \"it will have\", \"let's\": \"let us\",\"ma'am\": \"madam\",\n",
    "                     \"mayn't\": \"may not\",\"might've\": \"might have\",\"mightn't\": \"might not\", \n",
    "                     \"mightn't've\": \"might not have\",\"must've\": \"must have\",\"mustn't\": \"must not\",\n",
    "                     \"mustn't've\": \"must not have\", \"needn't\": \"need not\",\n",
    "                     \"needn't've\": \"need not have\",\"o'clock\": \"of the clock\",\"oughtn't\": \"ought not\",\n",
    "                     \"oughtn't've\": \"ought not have\",\"shan't\": \"shall not\",\"sha'n't\": \"shall not\",\n",
    "                     \"shan't've\": \"shall not have\",\"she'd\": \"she would\",\"she'd've\": \"she would have\",\n",
    "                     \"she'll\": \"she will\", \"she'll've\": \"she will have\",\"should've\": \"should have\",\n",
    "                     \"shouldn't\": \"should not\", \"shouldn't've\": \"should not have\",\"so've\": \"so have\",\n",
    "                     \"that'd\": \"that would\",\"that'd've\": \"that would have\", \"there'd\": \"there would\",\n",
    "                     \"there'd've\": \"there would have\", \"they'd\": \"they would\",\n",
    "                     \"they'd've\": \"they would have\",\"they'll\": \"they will\",\n",
    "                     \"they'll've\": \"they will have\", \"they're\": \"they are\",\"they've\": \"they have\",\n",
    "                     \"to've\": \"to have\",\"wasn't\": \"was not\",\"we'd\": \"we would\",\n",
    "                     \"we'd've\": \"we would have\",\"we'll\": \"we will\",\"we'll've\": \"we will have\",\n",
    "                     \"we're\": \"we are\",\"we've\": \"we have\", \"weren't\": \"were not\",\"what'll\": \"what will\",\n",
    "                     \"what'll've\": \"what will have\",\"what're\": \"what are\", \"what've\": \"what have\",\n",
    "                     \"when've\": \"when have\",\"where'd\": \"where did\", \"where've\": \"where have\",\n",
    "                     \"who'll\": \"who will\",\"who'll've\": \"who will have\",\"who've\": \"who have\",\n",
    "                     \"why've\": \"why have\",\"will've\": \"will have\",\"won't\": \"will not\",\n",
    "                     \"won't've\": \"will not have\", \"would've\": \"would have\",\"wouldn't\": \"would not\",\n",
    "                     \"wouldn't've\": \"would not have\",\"y'all\": \"you all\", \"y'all'd\": \"you all would\",\n",
    "                     \"y'all'd've\": \"you all would have\",\"y'all're\": \"you all are\",\n",
    "                     \"y'all've\": \"you all have\", \"you'd\": \"you would\",\"you'd've\": \"you would have\",\n",
    "                     \"you'll\": \"you will\",\"you'll've\": \"you will have\", \"you're\": \"you are\",\n",
    "                     \"you've\": \"you have\"}\n",
    "\n",
    "# Regular expression for finding contractions\n",
    "contractions_re=re.compile('(%s)' % '|'.join(contractions_dict.keys()))"
   ]
  },
  {
   "cell_type": "code",
   "execution_count": null,
   "id": "e7d58ce4",
   "metadata": {},
   "outputs": [],
   "source": []
  },
  {
   "cell_type": "code",
   "execution_count": null,
   "id": "745c8bf6",
   "metadata": {},
   "outputs": [],
   "source": []
  },
  {
   "cell_type": "code",
   "execution_count": null,
   "id": "c929a27a",
   "metadata": {},
   "outputs": [],
   "source": []
  },
  {
   "cell_type": "code",
   "execution_count": null,
   "id": "6d04252f",
   "metadata": {},
   "outputs": [],
   "source": []
  },
  {
   "cell_type": "markdown",
   "id": "f1f482fa",
   "metadata": {},
   "source": [
    "# Analyzing text statistics\n",
    "Text statistics visualizations are simple but very insightful techniques. \n",
    "\n",
    "They include:\n",
    "\n",
    "word frequency analysis,\n",
    "sentence length analysis,\n",
    "average word length analysis,"
   ]
  },
  {
   "cell_type": "code",
   "execution_count": 79,
   "id": "872b546b",
   "metadata": {},
   "outputs": [],
   "source": [
    "df1=df.copy()"
   ]
  },
  {
   "cell_type": "code",
   "execution_count": 80,
   "id": "83312a7c",
   "metadata": {},
   "outputs": [
    {
     "data": {
      "text/html": [
       "<div>\n",
       "<style scoped>\n",
       "    .dataframe tbody tr th:only-of-type {\n",
       "        vertical-align: middle;\n",
       "    }\n",
       "\n",
       "    .dataframe tbody tr th {\n",
       "        vertical-align: top;\n",
       "    }\n",
       "\n",
       "    .dataframe thead th {\n",
       "        text-align: right;\n",
       "    }\n",
       "</style>\n",
       "<table border=\"1\" class=\"dataframe\">\n",
       "  <thead>\n",
       "    <tr style=\"text-align: right;\">\n",
       "      <th></th>\n",
       "      <th>id</th>\n",
       "      <th>content</th>\n",
       "      <th>wordcount</th>\n",
       "    </tr>\n",
       "  </thead>\n",
       "  <tbody>\n",
       "    <tr>\n",
       "      <th>0</th>\n",
       "      <td>etfi0m</td>\n",
       "      <td>America’s New Drinking Problem? The Trump Admi...</td>\n",
       "      <td>106</td>\n",
       "    </tr>\n",
       "    <tr>\n",
       "      <th>1</th>\n",
       "      <td>etouq6</td>\n",
       "      <td>Trump’s gutting of environmental rules is push...</td>\n",
       "      <td>18</td>\n",
       "    </tr>\n",
       "    <tr>\n",
       "      <th>2</th>\n",
       "      <td>etp02h</td>\n",
       "      <td>Greta Thunberg brushes off mockery from U.S. f...</td>\n",
       "      <td>16</td>\n",
       "    </tr>\n",
       "    <tr>\n",
       "      <th>3</th>\n",
       "      <td>etpv53</td>\n",
       "      <td>'It's a crisis, not a change': the six Guardia...</td>\n",
       "      <td>16</td>\n",
       "    </tr>\n",
       "    <tr>\n",
       "      <th>4</th>\n",
       "      <td>etsaxl</td>\n",
       "      <td>The Future will be Worse than We Thought</td>\n",
       "      <td>8</td>\n",
       "    </tr>\n",
       "  </tbody>\n",
       "</table>\n",
       "</div>"
      ],
      "text/plain": [
       "       id                                            content  wordcount\n",
       "0  etfi0m  America’s New Drinking Problem? The Trump Admi...        106\n",
       "1  etouq6  Trump’s gutting of environmental rules is push...         18\n",
       "2  etp02h  Greta Thunberg brushes off mockery from U.S. f...         16\n",
       "3  etpv53  'It's a crisis, not a change': the six Guardia...         16\n",
       "4  etsaxl         The Future will be Worse than We Thought            8"
      ]
     },
     "execution_count": 80,
     "metadata": {},
     "output_type": "execute_result"
    }
   ],
   "source": [
    "df1[\"wordcount\"]=[len(x.split()) for x in df['content'].tolist()]\n",
    "df1.head()"
   ]
  },
  {
   "cell_type": "code",
   "execution_count": null,
   "id": "6cbc0eee",
   "metadata": {},
   "outputs": [],
   "source": []
  }
 ],
 "metadata": {
  "kernelspec": {
   "display_name": "Python 3",
   "language": "python",
   "name": "python3"
  },
  "language_info": {
   "codemirror_mode": {
    "name": "ipython",
    "version": 3
   },
   "file_extension": ".py",
   "mimetype": "text/x-python",
   "name": "python",
   "nbconvert_exporter": "python",
   "pygments_lexer": "ipython3",
   "version": "3.8.8"
  }
 },
 "nbformat": 4,
 "nbformat_minor": 5
}
